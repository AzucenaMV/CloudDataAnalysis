{
  "nbformat": 4,
  "nbformat_minor": 0,
  "metadata": {
    "colab": {
      "name": "hellofunc.ipynb",
      "provenance": [],
      "authorship_tag": "ABX9TyPu/4j/8y7ZgcuLiDrgeFJp",
      "include_colab_link": true
    },
    "kernelspec": {
      "name": "python3",
      "display_name": "Python 3"
    }
  },
  "cells": [
    {
      "cell_type": "markdown",
      "metadata": {
        "id": "view-in-github",
        "colab_type": "text"
      },
      "source": [
        "<a href=\"https://colab.research.google.com/github/AzucenaMV/CloudDataAnalysis/blob/master/hellofunc.ipynb\" target=\"_parent\"><img src=\"https://colab.research.google.com/assets/colab-badge.svg\" alt=\"Open In Colab\"/></a>"
      ]
    },
    {
      "cell_type": "code",
      "metadata": {
        "id": "AxyZNQu0z5M3",
        "colab_type": "code",
        "colab": {}
      },
      "source": [
        "def hello():\n",
        "  '''Prints Hello '''\n",
        "  print('Hello')"
      ],
      "execution_count": 0,
      "outputs": []
    }
  ]
}